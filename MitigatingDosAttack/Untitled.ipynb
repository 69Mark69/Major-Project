{
 "cells": [
  {
   "cell_type": "code",
   "execution_count": 8,
   "id": "225f9ee2",
   "metadata": {},
   "outputs": [],
   "source": [
    "import pandas as pd\n",
    "import numpy as np\n",
    "filename = \"Dataset\"\n",
    "df1 = pd.read_csv(filename+\"/DrDOS_DNS.csv\")\n",
    "df2 = pd.read_csv(filename+\"/DrDOS_LDAP.csv\")\n",
    "df3 = pd.read_csv(filename+\"/DrDOS_MSSQL.csv\")\n",
    "df4 = pd.read_csv(filename+\"/DrDOS_NTP.csv\")\n",
    "df5 = pd.read_csv(filename+\"/DrDOS_NetBIOS.csv\")\n",
    "df6 = pd.read_csv(filename+\"/DrDOS_SNMP.csv\")\n",
    "df7 = pd.read_csv(filename+\"/DrDOS_SSDP.csv\")\n",
    "df8 = pd.read_csv(filename+\"/DrDOS_UDP.csv\")\n",
    "df9 = pd.read_csv(filename+\"/Syn.csv\")\n",
    "df10 = pd.read_csv(filename+\"/UDP_LAG.csv\")\n",
    "dataset = [df1, df2, df3, df4, df5, df6, df7, df8, df9, df10]\n",
    "dataset = pd.concat(dataset)"
   ]
  },
  {
   "cell_type": "code",
   "execution_count": 9,
   "id": "73edbd17",
   "metadata": {},
   "outputs": [
    {
     "name": "stdout",
     "output_type": "stream",
     "text": [
      "      Unnamed: 0                                 Flow ID     Source IP  \\\n",
      "0            425    172.16.0.5-192.168.50.1-634-60495-17    172.16.0.5   \n",
      "1            430    172.16.0.5-192.168.50.1-60495-634-17  192.168.50.1   \n",
      "2           1654    172.16.0.5-192.168.50.1-634-46391-17    172.16.0.5   \n",
      "3           2927    172.16.0.5-192.168.50.1-634-11894-17    172.16.0.5   \n",
      "4            694    172.16.0.5-192.168.50.1-634-27878-17    172.16.0.5   \n",
      "...          ...                                     ...           ...   \n",
      "7603       78938  172.16.0.5-192.168.50.1-43973-64923-17    172.16.0.5   \n",
      "7604      101964  172.16.0.5-192.168.50.1-54238-20274-17    172.16.0.5   \n",
      "7605      250040   172.16.0.5-192.168.50.1-56877-9948-17    172.16.0.5   \n",
      "7606      261053  172.16.0.5-192.168.50.1-54239-55339-17    172.16.0.5   \n",
      "7607       23404  172.16.0.5-192.168.50.1-38680-31160-17    172.16.0.5   \n",
      "\n",
      "       Source Port  Destination IP   Destination Port   Protocol  \\\n",
      "0              634    192.168.50.1              60495         17   \n",
      "1              634      172.16.0.5              60495         17   \n",
      "2              634    192.168.50.1              46391         17   \n",
      "3              634    192.168.50.1              11894         17   \n",
      "4              634    192.168.50.1              27878         17   \n",
      "...            ...             ...                ...        ...   \n",
      "7603         43973    192.168.50.1              64923         17   \n",
      "7604         54238    192.168.50.1              20274         17   \n",
      "7605         56877    192.168.50.1               9948         17   \n",
      "7606         54239    192.168.50.1              55339         17   \n",
      "7607         38680    192.168.50.1              31160         17   \n",
      "\n",
      "                       Timestamp   Flow Duration   Total Fwd Packets  ...  \\\n",
      "0     2018-12-01 10:51:39.813448           28415                  97  ...   \n",
      "1     2018-12-01 10:51:39.820842               2                   2  ...   \n",
      "2     2018-12-01 10:51:39.852499           48549                 200  ...   \n",
      "3     2018-12-01 10:51:39.890213           48337                 200  ...   \n",
      "4     2018-12-01 10:51:39.941151           32026                 200  ...   \n",
      "...                          ...             ...                 ...  ...   \n",
      "7603  2018-12-01 13:04:46.843650          216093                   6  ...   \n",
      "7604  2018-12-01 13:04:46.844313          109100                   4  ...   \n",
      "7605  2018-12-01 13:04:46.844362               1                   2  ...   \n",
      "7606  2018-12-01 13:04:46.844466          107992                   4  ...   \n",
      "7607  2018-12-01 13:04:46.844627               1                   2  ...   \n",
      "\n",
      "       Active Std   Active Max   Active Min  Idle Mean   Idle Std   Idle Max  \\\n",
      "0             0.0          0.0          0.0        0.0        0.0        0.0   \n",
      "1             0.0          0.0          0.0        0.0        0.0        0.0   \n",
      "2             0.0          0.0          0.0        0.0        0.0        0.0   \n",
      "3             0.0          0.0          0.0        0.0        0.0        0.0   \n",
      "4             0.0          0.0          0.0        0.0        0.0        0.0   \n",
      "...           ...          ...          ...        ...        ...        ...   \n",
      "7603          0.0          0.0          0.0        0.0        0.0        0.0   \n",
      "7604          0.0          0.0          0.0        0.0        0.0        0.0   \n",
      "7605          0.0          0.0          0.0        0.0        0.0        0.0   \n",
      "7606          0.0          0.0          0.0        0.0        0.0        0.0   \n",
      "7607          0.0          0.0          0.0        0.0        0.0        0.0   \n",
      "\n",
      "       Idle Min  SimillarHTTP   Inbound      Label  \n",
      "0           0.0             0         1  DrDoS_DNS  \n",
      "1           0.0             0         0  DrDoS_DNS  \n",
      "2           0.0             0         1  DrDoS_DNS  \n",
      "3           0.0             0         1  DrDoS_DNS  \n",
      "4           0.0             0         1  DrDoS_DNS  \n",
      "...         ...           ...       ...        ...  \n",
      "7603        0.0             0         1    UDP-lag  \n",
      "7604        0.0             0         1    UDP-lag  \n",
      "7605        0.0             0         1    UDP-lag  \n",
      "7606        0.0             0         1    UDP-lag  \n",
      "7607        0.0             0         1    UDP-lag  \n",
      "\n",
      "[70857 rows x 88 columns]\n"
     ]
    }
   ],
   "source": [
    "print(dataset)"
   ]
  },
  {
   "cell_type": "code",
   "execution_count": 10,
   "id": "2382f8ec",
   "metadata": {},
   "outputs": [
    {
     "data": {
      "text/plain": [
       "Unnamed: 0           int64\n",
       "Flow ID             object\n",
       " Source IP          object\n",
       " Source Port         int64\n",
       " Destination IP     object\n",
       "                    ...   \n",
       " Idle Max          float64\n",
       " Idle Min          float64\n",
       "SimillarHTTP        object\n",
       " Inbound             int64\n",
       "Label               object\n",
       "Length: 88, dtype: object"
      ]
     },
     "execution_count": 10,
     "metadata": {},
     "output_type": "execute_result"
    }
   ],
   "source": [
    "dataset.dtypes"
   ]
  },
  {
   "cell_type": "code",
   "execution_count": 13,
   "id": "458efda2",
   "metadata": {},
   "outputs": [],
   "source": [
    "labels = np.unique(dataset['Label']).tolist()\n",
    "columns = dataset.columns"
   ]
  },
  {
   "cell_type": "code",
   "execution_count": 16,
   "id": "cb79672b",
   "metadata": {},
   "outputs": [
    {
     "data": {
      "text/plain": [
       "Unnamed: 0         False\n",
       "Flow ID            False\n",
       " Source IP         False\n",
       " Source Port       False\n",
       " Destination IP    False\n",
       "                   ...  \n",
       " Idle Max          False\n",
       " Idle Min          False\n",
       "SimillarHTTP       False\n",
       " Inbound           False\n",
       "Label              False\n",
       "Length: 88, dtype: bool"
      ]
     },
     "execution_count": 16,
     "metadata": {},
     "output_type": "execute_result"
    }
   ],
   "source": [
    "dataset.isna().sum() > 0"
   ]
  },
  {
   "cell_type": "code",
   "execution_count": 22,
   "id": "22aecdbe",
   "metadata": {},
   "outputs": [
    {
     "data": {
      "text/plain": [
       "array([dtype('int64'), dtype('O'), dtype('O'), dtype('int64'), dtype('O'),\n",
       "       dtype('int64'), dtype('int64'), dtype('O'), dtype('int64'),\n",
       "       dtype('int64'), dtype('int64'), dtype('float64'), dtype('float64'),\n",
       "       dtype('float64'), dtype('float64'), dtype('float64'),\n",
       "       dtype('float64'), dtype('float64'), dtype('float64'),\n",
       "       dtype('float64'), dtype('float64'), dtype('float64'),\n",
       "       dtype('float64'), dtype('float64'), dtype('float64'),\n",
       "       dtype('float64'), dtype('float64'), dtype('float64'),\n",
       "       dtype('float64'), dtype('float64'), dtype('float64'),\n",
       "       dtype('float64'), dtype('float64'), dtype('float64'),\n",
       "       dtype('float64'), dtype('float64'), dtype('float64'),\n",
       "       dtype('int64'), dtype('int64'), dtype('int64'), dtype('int64'),\n",
       "       dtype('int64'), dtype('int64'), dtype('float64'), dtype('float64'),\n",
       "       dtype('float64'), dtype('float64'), dtype('float64'),\n",
       "       dtype('float64'), dtype('float64'), dtype('int64'), dtype('int64'),\n",
       "       dtype('int64'), dtype('int64'), dtype('int64'), dtype('int64'),\n",
       "       dtype('int64'), dtype('int64'), dtype('float64'), dtype('float64'),\n",
       "       dtype('float64'), dtype('float64'), dtype('int64'), dtype('int64'),\n",
       "       dtype('int64'), dtype('int64'), dtype('int64'), dtype('int64'),\n",
       "       dtype('int64'), dtype('int64'), dtype('int64'), dtype('int64'),\n",
       "       dtype('int64'), dtype('int64'), dtype('int64'), dtype('int64'),\n",
       "       dtype('int64'), dtype('float64'), dtype('float64'),\n",
       "       dtype('float64'), dtype('float64'), dtype('float64'),\n",
       "       dtype('float64'), dtype('float64'), dtype('float64'), dtype('O'),\n",
       "       dtype('int64'), dtype('O')], dtype=object)"
      ]
     },
     "execution_count": 22,
     "metadata": {},
     "output_type": "execute_result"
    }
   ],
   "source": [
    "dataset.dtypes.values"
   ]
  },
  {
   "cell_type": "code",
   "execution_count": 24,
   "id": "8d5b9f98",
   "metadata": {},
   "outputs": [],
   "source": []
  },
  {
   "cell_type": "code",
   "execution_count": 33,
   "id": "70de6d54",
   "metadata": {},
   "outputs": [],
   "source": [
    "label_encoder =[]\n",
    "columns = dataset.columns\n",
    "types = dataset.dtypes.values\n",
    "from sklearn.preprocessing import LabelEncoder"
   ]
  },
  {
   "cell_type": "code",
   "execution_count": 51,
   "id": "590e33ee",
   "metadata": {},
   "outputs": [
    {
     "name": "stdout",
     "output_type": "stream",
     "text": [
      "Flow ID\n",
      " Source IP\n",
      " Destination IP\n",
      " Timestamp\n",
      "SimillarHTTP\n"
     ]
    }
   ],
   "source": [
    "for i in range(len(types)):\n",
    "    name = types[i]\n",
    "    if name == 'O' and columns[i] !='Label':\n",
    "        le = LabelEncoder()\n",
    "        dataset[columns[i]] = pd.Series(le.fit_transform(dataset[columns[i]].astype(str)))\n",
    "        label_encoder.append(le)\n",
    "        print(columns[i])\n",
    "dataset.fillna(0, inplace = True)\n",
    "\n",
    "def getLabel(name):\n",
    "    label = -1\n",
    "    for i in range(len(labels)):\n",
    "        if name == labels[i]:\n",
    "            label = i\n",
    "            break\n",
    "    return label"
   ]
  },
  {
   "cell_type": "code",
   "execution_count": 52,
   "id": "fdd257b1",
   "metadata": {},
   "outputs": [],
   "source": [
    "    Y = dataset['Label'].ravel()\n",
    "    temp = []\n",
    "    for i in range(len(Y)):\n",
    "        temp.append(getLabel(Y[i]))\n",
    "    temp = np.asarray(temp)\n",
    "    Y = temp\n",
    "    dataset = dataset.values"
   ]
  },
  {
   "cell_type": "code",
   "execution_count": 124,
   "id": "40915a18",
   "metadata": {},
   "outputs": [
    {
     "name": "stdout",
     "output_type": "stream",
     "text": [
      "[ 1  1  1 ... 10 10 10]\n",
      "[[425 1357 8 ... 0 1 'DrDoS_DNS']\n",
      " [430 1190 10 ... 0 0 'DrDoS_DNS']\n",
      " [1654 1405 8 ... 0 1 'DrDoS_DNS']\n",
      " ...\n",
      " [250040 739 8 ... 0 1 'UDP-lag']\n",
      " [261053 2576 8 ... 0 1 'UDP-lag']\n",
      " [23404 423 28 ... 0 1 'UDP-lag']]\n"
     ]
    }
   ],
   "source": [
    "print(Y)\n",
    "print(dataset)"
   ]
  },
  {
   "cell_type": "code",
   "execution_count": 130,
   "id": "98672f72",
   "metadata": {},
   "outputs": [],
   "source": [
    "  X = dataset[:,0:dataset.shape[1]-1]"
   ]
  },
  {
   "cell_type": "code",
   "execution_count": 131,
   "id": "9f83da5a",
   "metadata": {},
   "outputs": [
    {
     "name": "stdout",
     "output_type": "stream",
     "text": [
      "[[425 1357 8 ... 0.0 0 1]\n",
      " [430 1190 10 ... 0.0 0 0]\n",
      " [1654 1405 8 ... 0.0 0 1]\n",
      " ...\n",
      " [250040 739 8 ... 0.0 0 1]\n",
      " [261053 2576 8 ... 0.0 0 1]\n",
      " [23404 423 28 ... 0.0 0 1]]\n"
     ]
    }
   ],
   "source": [
    "print(X)"
   ]
  },
  {
   "cell_type": "code",
   "execution_count": 140,
   "id": "bcf10381",
   "metadata": {},
   "outputs": [],
   "source": [
    "for i in X:\n",
    "    for x in i:\n",
    "        i[np.isinf(x)] = 0 "
   ]
  },
  {
   "cell_type": "code",
   "execution_count": 141,
   "id": "fa309686",
   "metadata": {},
   "outputs": [
    {
     "name": "stdout",
     "output_type": "stream",
     "text": [
      "[[425 1357 8 ... 0.0 0 1]\n",
      " [430 1190 10 ... 0.0 0 0]\n",
      " [1654 1405 8 ... 0.0 0 1]\n",
      " ...\n",
      " [250040 739 8 ... 0.0 0 1]\n",
      " [261053 2576 8 ... 0.0 0 1]\n",
      " [23404 423 28 ... 0.0 0 1]]\n"
     ]
    }
   ],
   "source": [
    "print(X)"
   ]
  },
  {
   "cell_type": "code",
   "execution_count": 142,
   "id": "fdde4ccb",
   "metadata": {},
   "outputs": [],
   "source": [
    "for i in X:\n",
    "    for x in i:\n",
    "        if np.isinf(x) == True:\n",
    "            print(\"HI\")"
   ]
  },
  {
   "cell_type": "code",
   "execution_count": 143,
   "id": "a886e825",
   "metadata": {},
   "outputs": [
    {
     "name": "stdout",
     "output_type": "stream",
     "text": [
      "[[425 1357 8 ... 0.0 0 1]\n",
      " [430 1190 10 ... 0.0 0 0]\n",
      " [1654 1405 8 ... 0.0 0 1]\n",
      " ...\n",
      " [250040 739 8 ... 0.0 0 1]\n",
      " [261053 2576 8 ... 0.0 0 1]\n",
      " [23404 423 28 ... 0.0 0 1]]\n"
     ]
    }
   ],
   "source": [
    "print(X)"
   ]
  },
  {
   "cell_type": "code",
   "execution_count": 148,
   "id": "2a66514e",
   "metadata": {},
   "outputs": [],
   "source": [
    "import pickle\n",
    "import os"
   ]
  },
  {
   "cell_type": "code",
   "execution_count": 149,
   "id": "ce56da87",
   "metadata": {},
   "outputs": [
    {
     "ename": "UnpicklingError",
     "evalue": "pickle data was truncated",
     "output_type": "error",
     "traceback": [
      "\u001b[1;31m---------------------------------------------------------------------------\u001b[0m",
      "\u001b[1;31mUnpicklingError\u001b[0m                           Traceback (most recent call last)",
      "Cell \u001b[1;32mIn[149], line 3\u001b[0m\n\u001b[0;32m      1\u001b[0m \u001b[38;5;28;01mif\u001b[39;00m os\u001b[38;5;241m.\u001b[39mpath\u001b[38;5;241m.\u001b[39mexists(\u001b[38;5;124m'\u001b[39m\u001b[38;5;124mmodel/nb.txt\u001b[39m\u001b[38;5;124m'\u001b[39m):\n\u001b[0;32m      2\u001b[0m         \u001b[38;5;28;01mwith\u001b[39;00m \u001b[38;5;28mopen\u001b[39m(\u001b[38;5;124m'\u001b[39m\u001b[38;5;124mmodel/nb.txt\u001b[39m\u001b[38;5;124m'\u001b[39m, \u001b[38;5;124m'\u001b[39m\u001b[38;5;124mrb\u001b[39m\u001b[38;5;124m'\u001b[39m) \u001b[38;5;28;01mas\u001b[39;00m file:\n\u001b[1;32m----> 3\u001b[0m             nb \u001b[38;5;241m=\u001b[39m pickle\u001b[38;5;241m.\u001b[39mload(file)\n\u001b[0;32m      4\u001b[0m         file\u001b[38;5;241m.\u001b[39mclose()        \n\u001b[0;32m      5\u001b[0m \u001b[38;5;28;01melse\u001b[39;00m:\n",
      "\u001b[1;31mUnpicklingError\u001b[0m: pickle data was truncated"
     ]
    }
   ],
   "source": [
    "if os.path.exists('model/nb.txt'):\n",
    "        with open('model/nb.txt', 'rb') as file:\n",
    "            nb = pickle.load(file)\n",
    "        file.close()        \n",
    "else:\n",
    "        nb = GaussianNB() \n",
    "        nb.fit(X_train, y_train)\n",
    "        with open('model/nb.txt', 'wb') as file:\n",
    "            pickle.dump(nb, file)\n",
    "        file.close()      \n",
    "print(nb)"
   ]
  },
  {
   "cell_type": "code",
   "execution_count": 156,
   "id": "e7df5eb1",
   "metadata": {},
   "outputs": [
    {
     "ename": "ModuleNotFoundError",
     "evalue": "No module named 'sklearn.neighbors._dist_metrics'",
     "output_type": "error",
     "traceback": [
      "\u001b[1;31m---------------------------------------------------------------------------\u001b[0m",
      "\u001b[1;31mModuleNotFoundError\u001b[0m                       Traceback (most recent call last)",
      "Cell \u001b[1;32mIn[156], line 3\u001b[0m\n\u001b[0;32m      1\u001b[0m \u001b[38;5;28;01mimport\u001b[39;00m \u001b[38;5;21;01msklearn\u001b[39;00m\n\u001b[0;32m      2\u001b[0m db \u001b[38;5;241m=\u001b[39m \u001b[38;5;28mopen\u001b[39m(\u001b[38;5;124m'\u001b[39m\u001b[38;5;124mmodel/knn.txt\u001b[39m\u001b[38;5;124m'\u001b[39m,\u001b[38;5;124m'\u001b[39m\u001b[38;5;124mrb\u001b[39m\u001b[38;5;124m'\u001b[39m)\n\u001b[1;32m----> 3\u001b[0m dbfile \u001b[38;5;241m=\u001b[39m pickle\u001b[38;5;241m.\u001b[39mload(db)\n\u001b[0;32m      4\u001b[0m \u001b[38;5;28;01mfor\u001b[39;00m lines \u001b[38;5;129;01min\u001b[39;00m dbfile:\n\u001b[0;32m      5\u001b[0m     \u001b[38;5;28mprint\u001b[39m(lines)\n",
      "\u001b[1;31mModuleNotFoundError\u001b[0m: No module named 'sklearn.neighbors._dist_metrics'"
     ]
    }
   ],
   "source": [
    "from sklearn\n",
    "db = open('model/knn.txt','rb')\n",
    "dbfile = pickle.load(db)\n",
    "for lines in dbfile:\n",
    "    print(lines)"
   ]
  },
  {
   "cell_type": "code",
   "execution_count": 158,
   "id": "82796caa",
   "metadata": {},
   "outputs": [
    {
     "name": "stdout",
     "output_type": "stream",
     "text": [
      "Collecting numpy==1.19.2\n",
      "  Downloading numpy-1.19.2.zip (7.3 MB)\n",
      "     ---------------------------------------- 0.0/7.3 MB ? eta -:--:--\n",
      "     --------- ------------------------------ 1.8/7.3 MB 37.9 MB/s eta 0:00:01\n",
      "     -------------------- ------------------- 3.7/7.3 MB 39.2 MB/s eta 0:00:01\n",
      "     ---------------------- ----------------- 4.2/7.3 MB 44.4 MB/s eta 0:00:01\n",
      "     ---------------------- ----------------- 4.2/7.3 MB 44.4 MB/s eta 0:00:01\n",
      "     ---------------------- ----------------- 4.2/7.3 MB 44.4 MB/s eta 0:00:01\n",
      "     ---------------------- ----------------- 4.2/7.3 MB 44.4 MB/s eta 0:00:01\n",
      "     ---------------------- ----------------- 4.2/7.3 MB 44.4 MB/s eta 0:00:01\n",
      "     ---------------------- ----------------- 4.2/7.3 MB 44.4 MB/s eta 0:00:01\n",
      "     ----------------------------------- ---- 6.4/7.3 MB 15.1 MB/s eta 0:00:01\n",
      "     ---------------------------------------- 7.3/7.3 MB 16.1 MB/s eta 0:00:00\n",
      "  Installing build dependencies: started\n",
      "  Installing build dependencies: finished with status 'done'\n",
      "  Getting requirements to build wheel: started\n",
      "  Getting requirements to build wheel: finished with status 'done'\n",
      "  Preparing metadata (pyproject.toml): started\n",
      "  Preparing metadata (pyproject.toml): finished with status 'error'\n",
      "Note: you may need to restart the kernel to use updated packages.\n"
     ]
    },
    {
     "name": "stderr",
     "output_type": "stream",
     "text": [
      "  error: subprocess-exited-with-error\n",
      "  \n",
      "  Preparing metadata (pyproject.toml) did not run successfully.\n",
      "  exit code: 1\n",
      "  \n",
      "  [93 lines of output]\n",
      "  Running from numpy source directory.\n",
      "  setup.py:470: UserWarning: Unrecognized setuptools command, proceeding with generating Cython sources and expanding templates\n",
      "    run_build = parse_setuppy_commands()\n",
      "  performance hint: _common.pyx:275:19: Exception check after calling 'random_func' will always require the GIL to be acquired. Declare 'random_func' as 'noexcept' if you control the definition and you're sure you don't want the function to raise exceptions.\n",
      "  performance hint: _common.pyx:299:19: Exception check after calling 'random_func' will always require the GIL to be acquired. Declare 'random_func' as 'noexcept' if you control the definition and you're sure you don't want the function to raise exceptions.\n",
      "  performance hint: _common.pyx:322:50: Exception check after calling 'random_func' will always require the GIL to be acquired. Declare 'random_func' as 'noexcept' if you control the definition and you're sure you don't want the function to raise exceptions.\n",
      "  performance hint: _common.pyx:426:31: Exception check after calling 'f' will always require the GIL to be acquired. Declare 'f' as 'noexcept' if you control the definition and you're sure you don't want the function to raise exceptions.\n",
      "  performance hint: _common.pyx:465:31: Exception check after calling 'f' will always require the GIL to be acquired. Declare 'f' as 'noexcept' if you control the definition and you're sure you don't want the function to raise exceptions.\n",
      "  performance hint: _common.pyx:509:31: Exception check after calling 'f' will always require the GIL to be acquired. Declare 'f' as 'noexcept' if you control the definition and you're sure you don't want the function to raise exceptions.\n",
      "  performance hint: _common.pyx:592:36: Exception check after calling 'f0' will always require the GIL to be acquired. Declare 'f0' as 'noexcept' if you control the definition and you're sure you don't want the function to raise exceptions.\n",
      "  performance hint: _common.pyx:596:36: Exception check after calling 'f1' will always require the GIL to be acquired. Declare 'f1' as 'noexcept' if you control the definition and you're sure you don't want the function to raise exceptions.\n",
      "  performance hint: _common.pyx:600:36: Exception check after calling 'f2' will always require the GIL to be acquired. Declare 'f2' as 'noexcept' if you control the definition and you're sure you don't want the function to raise exceptions.\n",
      "  performance hint: _common.pyx:604:36: Exception check after calling 'f3' will always require the GIL to be acquired. Declare 'f3' as 'noexcept' if you control the definition and you're sure you don't want the function to raise exceptions.\n",
      "  performance hint: _common.pyx:638:31: Exception check after calling 'f' will always require the GIL to be acquired. Declare 'f' as 'noexcept' if you control the definition and you're sure you don't want the function to raise exceptions.\n",
      "  performance hint: _common.pyx:675:31: Exception check after calling 'f' will always require the GIL to be acquired. Declare 'f' as 'noexcept' if you control the definition and you're sure you don't want the function to raise exceptions.\n",
      "  performance hint: _common.pyx:712:63: Exception check after calling 'f' will always require the GIL to be acquired. Declare 'f' as 'noexcept' if you control the definition and you're sure you don't want the function to raise exceptions.\n",
      "  performance hint: _common.pyx:754:31: Exception check after calling 'f' will always require the GIL to be acquired. Declare 'f' as 'noexcept' if you control the definition and you're sure you don't want the function to raise exceptions.\n",
      "  performance hint: _common.pyx:785:31: Exception check after calling 'f' will always require the GIL to be acquired. Declare 'f' as 'noexcept' if you control the definition and you're sure you don't want the function to raise exceptions.\n",
      "  performance hint: _common.pyx:903:40: Exception check after calling 'f0' will always require the GIL to be acquired. Declare 'f0' as 'noexcept' if you control the definition and you're sure you don't want the function to raise exceptions.\n",
      "  performance hint: _common.pyx:907:40: Exception check after calling 'fd' will always require the GIL to be acquired. Declare 'fd' as 'noexcept' if you control the definition and you're sure you don't want the function to raise exceptions.\n",
      "  performance hint: _common.pyx:911:41: Exception check after calling 'fdd' will always require the GIL to be acquired. Declare 'fdd' as 'noexcept' if you control the definition and you're sure you don't want the function to raise exceptions.\n",
      "  performance hint: _common.pyx:916:40: Exception check after calling 'fi' will always require the GIL to be acquired. Declare 'fi' as 'noexcept' if you control the definition and you're sure you don't want the function to raise exceptions.\n",
      "  performance hint: _common.pyx:920:41: Exception check after calling 'fdi' will always require the GIL to be acquired. Declare 'fdi' as 'noexcept' if you control the definition and you're sure you don't want the function to raise exceptions.\n",
      "  performance hint: _common.pyx:924:38: Exception check after calling 'fiii' will always require the GIL to be acquired. Declare 'fiii' as 'noexcept' if you control the definition and you're sure you don't want the function to raise exceptions.\n",
      "  performance hint: _common.pyx:960:31: Exception check after calling 'f' will always require the GIL to be acquired. Declare 'f' as 'noexcept' if you control the definition and you're sure you don't want the function to raise exceptions.\n",
      "  performance hint: _common.pyx:1002:32: Exception check after calling 'f1' will always require the GIL to be acquired. Declare 'f1' as 'noexcept' if you control the definition and you're sure you don't want the function to raise exceptions.\n",
      "  performance hint: _generator.pyx:707:41: Exception check after calling '_shuffle_int' will always require the GIL to be acquired.\n",
      "  Possible solutions:\n",
      "          1. Declare '_shuffle_int' as 'noexcept' if you control the definition and you're sure you don't want the function to raise exceptions.\n",
      "          2. Use an 'int' return type on '_shuffle_int' to allow an error code to be returned.\n",
      "  performance hint: _generator.pyx:736:45: Exception check after calling '_shuffle_int' will always require the GIL to be acquired.\n",
      "  Possible solutions:\n",
      "          1. Declare '_shuffle_int' as 'noexcept' if you control the definition and you're sure you don't want the function to raise exceptions.\n",
      "          2. Use an 'int' return type on '_shuffle_int' to allow an error code to be returned.\n",
      "  \n",
      "  Error compiling Cython file:\n",
      "  ------------------------------------------------------------\n",
      "  ...\n",
      "          for i in range(1, RK_STATE_LEN):\n",
      "              self.rng_state.key[i] = val[i]\n",
      "          self.rng_state.pos = i\n",
      "  \n",
      "          self._bitgen.state = &self.rng_state\n",
      "          self._bitgen.next_uint64 = &mt19937_uint64\n",
      "                                     ^\n",
      "  ------------------------------------------------------------\n",
      "  \n",
      "  _mt19937.pyx:138:35: Cannot assign type 'uint64_t (*)(void *) except? -1 nogil' to 'uint64_t (*)(void *) noexcept nogil'. Exception values are incompatible. Suggest adding 'noexcept' to type 'uint64_t (void *) except? -1 nogil'.\n",
      "  Processing numpy/random\\_bounded_integers.pxd.in\n",
      "  Processing numpy/random\\bit_generator.pyx\n",
      "  Processing numpy/random\\mtrand.pyx\n",
      "  Processing numpy/random\\_bounded_integers.pyx.in\n",
      "  Processing numpy/random\\_common.pyx\n",
      "  Processing numpy/random\\_generator.pyx\n",
      "  Processing numpy/random\\_mt19937.pyx\n",
      "  Traceback (most recent call last):\n",
      "    File \"C:\\Users\\markp\\AppData\\Local\\Temp\\pip-install-3pvv166f\\numpy_2d958de1dc8d41429c518bb8194cc2f2\\tools\\cythonize.py\", line 235, in <module>\n",
      "      main()\n",
      "    File \"C:\\Users\\markp\\AppData\\Local\\Temp\\pip-install-3pvv166f\\numpy_2d958de1dc8d41429c518bb8194cc2f2\\tools\\cythonize.py\", line 231, in main\n",
      "      find_process_files(root_dir)\n",
      "    File \"C:\\Users\\markp\\AppData\\Local\\Temp\\pip-install-3pvv166f\\numpy_2d958de1dc8d41429c518bb8194cc2f2\\tools\\cythonize.py\", line 222, in find_process_files\n",
      "      process(root_dir, fromfile, tofile, function, hash_db)\n",
      "    File \"C:\\Users\\markp\\AppData\\Local\\Temp\\pip-install-3pvv166f\\numpy_2d958de1dc8d41429c518bb8194cc2f2\\tools\\cythonize.py\", line 188, in process\n",
      "      processor_function(fromfile, tofile)\n",
      "    File \"C:\\Users\\markp\\AppData\\Local\\Temp\\pip-install-3pvv166f\\numpy_2d958de1dc8d41429c518bb8194cc2f2\\tools\\cythonize.py\", line 77, in process_pyx\n",
      "      subprocess.check_call(\n",
      "    File \"C:\\Users\\markp\\anaconda3\\Lib\\subprocess.py\", line 413, in check_call\n",
      "      raise CalledProcessError(retcode, cmd)\n",
      "  subprocess.CalledProcessError: Command '['C:\\\\Users\\\\markp\\\\anaconda3\\\\python.exe', '-m', 'cython', '-3', '--fast-fail', '-o', '_mt19937.c', '_mt19937.pyx']' returned non-zero exit status 1.\n",
      "  Cythonizing sources\n",
      "  Traceback (most recent call last):\n",
      "    File \"C:\\Users\\markp\\anaconda3\\Lib\\site-packages\\pip\\_vendor\\pyproject_hooks\\_in_process\\_in_process.py\", line 353, in <module>\n",
      "      main()\n",
      "    File \"C:\\Users\\markp\\anaconda3\\Lib\\site-packages\\pip\\_vendor\\pyproject_hooks\\_in_process\\_in_process.py\", line 335, in main\n",
      "      json_out['return_val'] = hook(**hook_input['kwargs'])\n",
      "                               ^^^^^^^^^^^^^^^^^^^^^^^^^^^^\n",
      "    File \"C:\\Users\\markp\\anaconda3\\Lib\\site-packages\\pip\\_vendor\\pyproject_hooks\\_in_process\\_in_process.py\", line 149, in prepare_metadata_for_build_wheel\n",
      "      return hook(metadata_directory, config_settings)\n",
      "             ^^^^^^^^^^^^^^^^^^^^^^^^^^^^^^^^^^^^^^^^^\n",
      "    File \"C:\\Users\\markp\\AppData\\Local\\Temp\\pip-build-env-ou6cssxj\\overlay\\Lib\\site-packages\\setuptools\\build_meta.py\", line 157, in prepare_metadata_for_build_wheel\n",
      "      self.run_setup()\n",
      "    File \"C:\\Users\\markp\\AppData\\Local\\Temp\\pip-build-env-ou6cssxj\\overlay\\Lib\\site-packages\\setuptools\\build_meta.py\", line 249, in run_setup\n",
      "      self).run_setup(setup_script=setup_script)\n",
      "            ^^^^^^^^^^^^^^^^^^^^^^^^^^^^^^^^^^^^\n",
      "    File \"C:\\Users\\markp\\AppData\\Local\\Temp\\pip-build-env-ou6cssxj\\overlay\\Lib\\site-packages\\setuptools\\build_meta.py\", line 142, in run_setup\n",
      "      exec(compile(code, __file__, 'exec'), locals())\n",
      "    File \"setup.py\", line 499, in <module>\n",
      "      setup_package()\n",
      "    File \"setup.py\", line 479, in setup_package\n",
      "      generate_cython()\n",
      "    File \"setup.py\", line 274, in generate_cython\n",
      "      raise RuntimeError(\"Running cythonize failed!\")\n",
      "  RuntimeError: Running cythonize failed!\n",
      "  [end of output]\n",
      "  \n",
      "  note: This error originates from a subprocess, and is likely not a problem with pip.\n",
      "error: metadata-generation-failed\n",
      "\n",
      "Encountered error while generating package metadata.\n",
      "\n",
      "See above for output.\n",
      "\n",
      "note: This is an issue with the package mentioned above, not pip.\n",
      "hint: See above for details.\n"
     ]
    }
   ],
   "source": [
    "pip install numpy==1.19.2"
   ]
  },
  {
   "cell_type": "code",
   "execution_count": 159,
   "id": "79bc7038",
   "metadata": {},
   "outputs": [
    {
     "ename": "NameError",
     "evalue": "name 'python' is not defined",
     "output_type": "error",
     "traceback": [
      "\u001b[1;31m---------------------------------------------------------------------------\u001b[0m",
      "\u001b[1;31mNameError\u001b[0m                                 Traceback (most recent call last)",
      "Cell \u001b[1;32mIn[159], line 1\u001b[0m\n\u001b[1;32m----> 1\u001b[0m python\n",
      "\u001b[1;31mNameError\u001b[0m: name 'python' is not defined"
     ]
    }
   ],
   "source": [
    "python"
   ]
  },
  {
   "cell_type": "code",
   "execution_count": 162,
   "id": "b413818f",
   "metadata": {},
   "outputs": [
    {
     "name": "stdout",
     "output_type": "stream",
     "text": [
      "Note: you may need to restart the kernel to use updated packages.\n"
     ]
    },
    {
     "name": "stderr",
     "output_type": "stream",
     "text": [
      "\n",
      "Usage:   \n",
      "  C:\\Users\\markp\\anaconda3\\python.exe -m pip <command> [options]\n",
      "\n",
      "no such option: --V\n"
     ]
    }
   ],
   "source": []
  },
  {
   "cell_type": "code",
   "execution_count": null,
   "id": "bde66615",
   "metadata": {},
   "outputs": [],
   "source": []
  }
 ],
 "metadata": {
  "kernelspec": {
   "display_name": "Python 3 (ipykernel)",
   "language": "python",
   "name": "python3"
  },
  "language_info": {
   "codemirror_mode": {
    "name": "ipython",
    "version": 3
   },
   "file_extension": ".py",
   "mimetype": "text/x-python",
   "name": "python",
   "nbconvert_exporter": "python",
   "pygments_lexer": "ipython3",
   "version": "3.11.4"
  }
 },
 "nbformat": 4,
 "nbformat_minor": 5
}
