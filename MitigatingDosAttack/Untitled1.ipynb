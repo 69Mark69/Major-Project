{
 "cells": [
  {
   "cell_type": "code",
   "execution_count": 46,
   "id": "44aac231",
   "metadata": {},
   "outputs": [],
   "source": [
    "from tkinter import messagebox\n",
    "from tkinter import *\n",
    "from tkinter import simpledialog\n",
    "import tkinter\n",
    "from tkinter import filedialog\n",
    "from tkinter.filedialog import askopenfilename\n",
    "import numpy as np \n",
    "import matplotlib.pyplot as plt\n",
    "import pandas as pd\n",
    "from sklearn.metrics import accuracy_score\n",
    "from sklearn.model_selection import train_test_split\n",
    "import os\n",
    "from sklearn.metrics import confusion_matrix\n",
    "from sklearn.naive_bayes import GaussianNB\n",
    "from sklearn import svm\n",
    "from sklearn.metrics import precision_score\n",
    "from sklearn.metrics import recall_score\n",
    "from sklearn.metrics import f1_score\n",
    "import seaborn as sns\n",
    "import webbrowser\n",
    "from sklearn.preprocessing import LabelEncoder\n",
    "from sklearn.ensemble import RandomForestClassifier\n",
    "import pickle\n",
    "from sklearn.neighbors import KNeighborsClassifier\n",
    "from xgboost import XGBClassifier\n",
    "from sklearn.ensemble import AdaBoostClassifier\n",
    "from sklearn.preprocessing import normalize\n",
    "from sklearn.decomposition import PCA"
   ]
  },
  {
   "cell_type": "code",
   "execution_count": 47,
   "id": "9d9737a5",
   "metadata": {},
   "outputs": [],
   "source": [
    "global filename\n",
    "global X,Y\n",
    "global dataset\n",
    "global main\n",
    "global text\n",
    "global accuracy, precision, recall, fscore\n",
    "global X_train, X_test, y_train, y_test\n",
    "global classifier\n",
    "global label_encoder, labels, columns, types, pca"
   ]
  },
  {
   "cell_type": "code",
   "execution_count": null,
   "id": "407537f5",
   "metadata": {},
   "outputs": [],
   "source": []
  },
  {
   "cell_type": "code",
   "execution_count": 48,
   "id": "a1e93221",
   "metadata": {},
   "outputs": [
    {
     "data": {
      "text/plain": [
       "''"
      ]
     },
     "execution_count": 48,
     "metadata": {},
     "output_type": "execute_result"
    }
   ],
   "source": [
    "main = tkinter.Tk()\n",
    "main.title(\"Mitigating DDOS Attack In IOT Network Environment\") #designing main screen\n",
    "main.geometry(\"1300x1200\")"
   ]
  },
  {
   "cell_type": "code",
   "execution_count": 49,
   "id": "0c5d9266",
   "metadata": {},
   "outputs": [],
   "source": [
    "def getLabel(name):\n",
    "    label = -1\n",
    "    for i in range(len(labels)):\n",
    "        if name == labels[i]:\n",
    "            label = i\n",
    "            break\n",
    "    return label"
   ]
  },
  {
   "cell_type": "code",
   "execution_count": 50,
   "id": "cfcc2afa",
   "metadata": {},
   "outputs": [],
   "source": [
    "def uploadDataset():\n",
    "    global filename, dataset, labels\n",
    "    text.delete('1.0', END)\n",
    "    filename = filedialog.askdirectory(initialdir=\".\")\n",
    "    text.insert(END,filename+\" loaded\\n\\n\")\n",
    "    df1 = pd.read_csv(filename+\"/DrDOS_DNS.csv\")\n",
    "    df2 = pd.read_csv(filename+\"/DrDOS_LDAP.csv\")\n",
    "    df3 = pd.read_csv(filename+\"/DrDOS_MSSQL.csv\")\n",
    "    df4 = pd.read_csv(filename+\"/DrDOS_NTP.csv\")\n",
    "    df5 = pd.read_csv(filename+\"/DrDOS_NetBIOS.csv\")\n",
    "    df6 = pd.read_csv(filename+\"/DrDOS_SNMP.csv\")\n",
    "    df7 = pd.read_csv(filename+\"/DrDOS_SSDP.csv\")\n",
    "    df8 = pd.read_csv(filename+\"/DrDOS_UDP.csv\")\n",
    "    df9 = pd.read_csv(filename+\"/Syn.csv\")\n",
    "    df10 = pd.read_csv(filename+\"/UDP_LAG.csv\")\n",
    "    dataset = [df1, df2, df3, df4, df5, df6, df7, df8, df9, df10]\n",
    "    dataset = pd.concat(dataset)\n",
    "    labels = np.unique(dataset['Label']).tolist()\n",
    "    null_val = dataset[dataset.isna().any(axis = 1)]\n",
    "    text.insert(END,str(dataset.head()))\n",
    "    text.update_idletasks()\n",
    "    attack = dataset.groupby('Label').size()\n",
    "    attack.plot(kind=\"bar\")\n",
    "    plt.xlabel('DDOS Attacks')\n",
    "    plt.ylabel('Number of Records')\n",
    "    plt.title('Different Attacks found in dataset')\n",
    "    plt.show()"
   ]
  },
  {
   "cell_type": "code",
   "execution_count": 51,
   "id": "048f7a91",
   "metadata": {},
   "outputs": [],
   "source": [
    "def preprocessDataset():\n",
    "    global dataset, label_encoder, X, Y, columns, types, pca\n",
    "    global X_train, X_test, y_train, y_test\n",
    "    text.delete('1.0', END)\n",
    "    label_encoder = []\n",
    "    columns = dataset.columns\n",
    "    types = dataset.dtypes.values\n",
    "    for i in range(len(types)):\n",
    "        name = types[i]\n",
    "        if name == 'object' and columns[i] != 'Label':\n",
    "            le = LabelEncoder()\n",
    "            dataset[columns[i]] = pd.Series(le.fit_transform(dataset[columns[i]].astype(str)))\n",
    "            label_encoder.append(le)\n",
    "            print(columns[i])\n",
    "    dataset.fillna(0, inplace = True)\n",
    "    Y = dataset['Label'].ravel()\n",
    "    temp = []\n",
    "    for i in range(len(Y)):\n",
    "        temp.append(getLabel(Y[i]))\n",
    "    temp = np.asarray(temp)\n",
    "    Y = temp\n",
    "    dataset = dataset.values\n",
    "    X = dataset[:,0:dataset.shape[1]-1]\n",
    "    #Here the dataset provided has inf values which are not categorized as NAN or Null \n",
    "    for i in X:\n",
    "        for x in i:\n",
    "            i[np.isinf(x)] = 0 \n",
    "    #Here we replace the inf values with 0 so as to normalize the values\n",
    "    X = normalize(X)\n",
    "    indices = np.arange(X.shape[0])\n",
    "    np.random.shuffle(indices)\n",
    "    X = X[indices]\n",
    "    Y = Y[indices]\n",
    "    print(np.unique(Y))\n",
    "    text.insert(END,\"Dataset after features processing & normalization\\n\\n\")\n",
    "    text.insert(END,str(X)+\"\\n\\n\")\n",
    "    text.insert(END,\"Total records found in dataset : \"+str(X.shape[0])+\"\\n\")\n",
    "    text.insert(END,\"Total features found in dataset: \"+str(X.shape[1])+\"\\n\\n\")\n",
    "    pca = PCA(n_components = 50)\n",
    "    X = pca.fit_transform(X)\n",
    "    X_train, X_test, y_train, y_test = train_test_split(X, Y, test_size=0.2)\n",
    "    text.insert(END,\"Dataset Train and Test Split\\n\\n\")\n",
    "    text.insert(END,\"80% dataset records used to train ML algorithms : \"+str(X_train.shape[0])+\"\\n\")\n",
    "    text.insert(END,\"20% dataset records used to train ML algorithms : \"+str(X_test.shape[0])+\"\\n\")\n"
   ]
  },
  {
   "cell_type": "code",
   "execution_count": 52,
   "id": "fe411df7",
   "metadata": {},
   "outputs": [],
   "source": [
    "def calculateMetrics(algorithm, predict, y_test):\n",
    "    a = accuracy_score(y_test,predict)*100\n",
    "    p = precision_score(y_test, predict,average='macro') * 100\n",
    "    r = recall_score(y_test, predict,average='macro') * 100\n",
    "    f = f1_score(y_test, predict,average='macro') * 100\n",
    "    accuracy.append(a)\n",
    "    precision.append(p)\n",
    "    recall.append(r)\n",
    "    fscore.append(f)\n",
    "    text.insert(END,algorithm+\" Accuracy  :  \"+str(a)+\"\\n\")\n",
    "    text.insert(END,algorithm+\" Precision : \"+str(p)+\"\\n\")\n",
    "    text.insert(END,algorithm+\" Recall    : \"+str(r)+\"\\n\")\n",
    "    text.insert(END,algorithm+\" FScore    : \"+str(f)+\"\\n\\n\")\n",
    "    text.update_idletasks()\n",
    "    print(np.unique(predict))\n",
    "    print(np.unique(y_test))\n",
    "    conf_matrix = confusion_matrix(y_test, predict) \n",
    "    #plt.figure(figsize =(6, 6)) \n",
    "    ax = sns.heatmap(conf_matrix, xticklabels = labels, yticklabels = labels, annot = True, cmap=\"viridis\" ,fmt =\"g\");\n",
    "    ax.set_ylim([0,len(labels)])\n",
    "    plt.title(algorithm+\" Confusion matrix\") \n",
    "    plt.ylabel('True class') \n",
    "    plt.xlabel('Predicted class') \n",
    "    plt.show()\n"
   ]
  },
  {
   "cell_type": "code",
   "execution_count": 53,
   "id": "3d338396",
   "metadata": {},
   "outputs": [],
   "source": [
    "def runNaiveBayes():\n",
    "    global X, Y, X_train, X_test, y_train, y_test\n",
    "    global accuracy, precision,recall, fscore\n",
    "    accuracy = []\n",
    "    precision = []\n",
    "    recall = []\n",
    "    fscore = []\n",
    "    text.delete('1.0', END)\n",
    "    if os.path.exists('model/nb.txt'):\n",
    "        with open('model/nb.txt', 'rb') as file:\n",
    "            nb = pickle.load(file)\n",
    "        file.close()        \n",
    "    else:\n",
    "        nb = GaussianNB() \n",
    "        nb.fit(X_train, y_train)\n",
    "        with open('model/nb.txt', 'wb') as file:\n",
    "            pickle.dump(nb, file)\n",
    "        file.close()        \n",
    "    predict = nb.predict(X_test)\n",
    "    calculateMetrics(\"Naive Bayes\", predict, y_test)\n"
   ]
  },
  {
   "cell_type": "code",
   "execution_count": 54,
   "id": "db4289a0",
   "metadata": {},
   "outputs": [],
   "source": [
    "def runRandomForest():\n",
    "    global classifier\n",
    "    if os.path.exists('model/rf.txt'):\n",
    "        with open('model/rf.txt', 'rb') as file:\n",
    "            rf = pickle.load(file)\n",
    "        file.close()        \n",
    "    else:\n",
    "        rf = RandomForestClassifier()\n",
    "        rf.fit(X_train, y_train)\n",
    "        with open('model/rf.txt', 'wb') as file:\n",
    "            pickle.dump(rf, file)\n",
    "        file.close()        \n",
    "    predict = rf.predict(X_test)\n",
    "    classifier = rf\n",
    "    calculateMetrics(\"Random Forest\", predict, y_test)\n"
   ]
  },
  {
   "cell_type": "code",
   "execution_count": 55,
   "id": "56467547",
   "metadata": {},
   "outputs": [],
   "source": [
    "def runSVM():\n",
    "    if os.path.exists('model/svm.txt'):\n",
    "        with open('model/svm.txt', 'rb') as file:\n",
    "            svm_cls = pickle.load(file)\n",
    "        file.close()        \n",
    "    else:\n",
    "        svm_cls = svm.SVC() \n",
    "        svm_cls.fit(X_train, y_train)\n",
    "        with open('model/svm.txt', 'wb') as file:\n",
    "            pickle.dump(svm_cls, file)\n",
    "        file.close() \n",
    "    predict = svm_cls.predict(X_test)\n",
    "    calculateMetrics(\"SVM\", predict, y_test)\n"
   ]
  },
  {
   "cell_type": "code",
   "execution_count": 56,
   "id": "502b3c51",
   "metadata": {},
   "outputs": [],
   "source": [
    "def runXGBoost():\n",
    "    if os.path.exists('model/xgb.txt'):\n",
    "        with open('model/xgb.txt', 'rb') as file:\n",
    "            xgb_cls = pickle.load(file)\n",
    "        file.close()        \n",
    "    else:\n",
    "        xgb_cls = XGBClassifier()\n",
    "        xgb_cls.fit(X_train, y_train)\n",
    "        with open('model/xgb.txt', 'wb') as file:\n",
    "            pickle.dump(xgb_cls, file)\n",
    "        file.close() \n",
    "    predict = xgb_cls.predict(X_test)\n",
    "    calculateMetrics(\"XGBoost\", predict, y_test)\n"
   ]
  },
  {
   "cell_type": "code",
   "execution_count": 57,
   "id": "035c99b5",
   "metadata": {},
   "outputs": [],
   "source": [
    "def runAdaBoost():\n",
    "    if os.path.exists('model/adb.txt'):\n",
    "        with open('model/adb.txt', 'rb') as file:\n",
    "            adb_cls = pickle.load(file)\n",
    "        file.close()        \n",
    "    else:\n",
    "        adb_cls = AdaBoostClassifier()\n",
    "        adb_cls.fit(X_train, y_train)\n",
    "        with open('model/adb.txt', 'wb') as file:\n",
    "            pickle.dump(adb_cls, file)\n",
    "        file.close() \n",
    "    predict = adb_cls.predict(X_test)\n",
    "    calculateMetrics(\"AdaBoost\", predict, y_test)\n"
   ]
  },
  {
   "cell_type": "code",
   "execution_count": 58,
   "id": "17a50ef5",
   "metadata": {},
   "outputs": [],
   "source": [
    "def runKNN():\n",
    "    if os.path.exists('model/knn.txt'):\n",
    "        with open('model/knn.txt', 'rb') as file:\n",
    "            knn_cls = pickle.load(file)\n",
    "        file.close()        \n",
    "    else:\n",
    "        knn_cls = KNeighborsClassifier(n_neighbors = 2) \n",
    "        knn_cls.fit(X_train, y_train)\n",
    "        with open('model/knn.txt', 'wb') as file:\n",
    "            pickle.dump(knn_cls, file)\n",
    "        file.close() \n",
    "    predict = knn_cls.predict(X_test)\n",
    "    calculateMetrics(\"KNN\", predict, y_test)\n"
   ]
  },
  {
   "cell_type": "code",
   "execution_count": 59,
   "id": "d9a2aaa2",
   "metadata": {},
   "outputs": [],
   "source": [
    "def predict():\n",
    "    global label_encoder, labels, columns, types, pca\n",
    "    text.delete('1.0', END)\n",
    "    filename = filedialog.askopenfilename(initialdir=\"testData\")\n",
    "    testData = pd.read_csv(filename)\n",
    "    count = 0\n",
    "    for i in range(len(types)-1):\n",
    "        name = types[i]\n",
    "        if name == 'object':\n",
    "            print(columns[i])\n",
    "            if columns[i] == 'Flow Bytes/s':\n",
    "                testData[columns[i]] = pd.Series(label_encoder[count].fit_transform(testData[columns[i]].astype(str)))\n",
    "            else:\n",
    "                testData[columns[i]] = pd.Series(label_encoder[count].transform(testData[columns[i]].astype(str)))\n",
    "            count = count + 1            \n",
    "    testData.fillna(0, inplace = True)\n",
    "    testData = testData.values\n",
    "    testData = normalize(testData)\n",
    "    testData = pca.transform(testData)\n",
    "    predict = classifier.predict(testData)\n",
    "    print(predict)\n",
    "    for i in range(len(predict)):\n",
    "        text.insert(END,\"Test DATA : \"+str(testData[i])+\" ===> PREDICTED AS \"+labels[predict[i]]+\"\\n\\n\")\n"
   ]
  },
  {
   "cell_type": "code",
   "execution_count": 60,
   "id": "70215e75",
   "metadata": {},
   "outputs": [
    {
     "data": {
      "image/png": "[encoded data removed]",
      "text/plain": [
       "<Figure size 640x480 with 1 Axes>"
      ]
     },
     "metadata": {},
     "output_type": "display_data"
    },
    {
     "name": "stdout",
     "output_type": "stream",
     "text": [
      "Flow ID\n",
      " Source IP\n",
      " Destination IP\n",
      " Timestamp\n",
      "SimillarHTTP\n"
     ]
    },
    {
     "name": "stderr",
     "output_type": "stream",
     "text": [
      "C:\\Users\\markp\\AppData\\Local\\Temp\\ipykernel_3700\\1943503766.py:16: FutureWarning: Series.ravel is deprecated. The underlying array is already 1D, so ravel is not necessary.  Use `to_numpy()` for conversion to a numpy array instead.\n",
      "  Y = dataset['Label'].ravel()\n"
     ]
    },
    {
     "name": "stdout",
     "output_type": "stream",
     "text": [
      "[ 0  1  2  3  4  5  6  7  8  9 10]\n"
     ]
    },
    {
     "name": "stderr",
     "output_type": "stream",
     "text": [
      "Exception in Tkinter callback\n",
      "Traceback (most recent call last):\n",
      "  File \"C:\\Users\\markp\\anaconda3\\envs\\myenv\\lib\\tkinter\\__init__.py\", line 1921, in __call__\n",
      "    return self.func(*args)\n",
      "  File \"C:\\Users\\markp\\AppData\\Local\\Temp\\ipykernel_3700\\327343542.py\", line 11, in runNaiveBayes\n",
      "    nb = pickle.load(file)\n",
      "_pickle.UnpicklingError: pickle data was truncated\n"
     ]
    }
   ],
   "source": [
    "def graph():\n",
    "    output = \"<html><body><table align=center border=1><tr><th>Algorithm Name</th><th>Accuracy</th><th>Precision</th><th>Recall</th>\"\n",
    "    output+=\"<th>FSCORE</th></tr>\"\n",
    "    output+=\"<tr><td>Naive Bayes Algorithm</td><td>\"+str(accuracy[0])+\"</td><td>\"+str(precision[0])+\"</td><td>\"+str(recall[0])+\"</td><td>\"+str(fscore[0])+\"</td></tr>\"\n",
    "    output+=\"<tr><td>Random Forest Algorithm</td><td>\"+str(accuracy[1])+\"</td><td>\"+str(precision[1])+\"</td><td>\"+str(recall[1])+\"</td><td>\"+str(fscore[1])+\"</td></tr>\"\n",
    "    output+=\"<tr><td>SVM Algorithm</td><td>\"+str(accuracy[2])+\"</td><td>\"+str(precision[2])+\"</td><td>\"+str(recall[2])+\"</td><td>\"+str(fscore[2])+\"</td></tr>\"\n",
    "    output+=\"<tr><td>XGBoost Algorithm</td><td>\"+str(accuracy[3])+\"</td><td>\"+str(precision[3])+\"</td><td>\"+str(recall[3])+\"</td><td>\"+str(fscore[3])+\"</td></tr>\"\n",
    "    output+=\"<tr><td>AdaBoostBoost Algorithm</td><td>\"+str(accuracy[4])+\"</td><td>\"+str(precision[4])+\"</td><td>\"+str(recall[4])+\"</td><td>\"+str(fscore[4])+\"</td></tr>\"\n",
    "    output+=\"<tr><td>KNN Algorithm</td><td>\"+str(accuracy[5])+\"</td><td>\"+str(precision[5])+\"</td><td>\"+str(recall[5])+\"</td><td>\"+str(fscore[5])+\"</td></tr>\"\n",
    "    output+=\"</table></body></html>\"\n",
    "    f = open(\"table.html\", \"w\")\n",
    "    f.write(output)\n",
    "    f.close()\n",
    "    webbrowser.open(\"table.html\",new=2)\n",
    "    \n",
    "    df = pd.DataFrame([['Naive Bayes','Precision',precision[0]],['Naive Bayes','Recall',recall[0]],['Naive Bayes','F1 Score',fscore[0]],['Naive Bayes','Accuracy',accuracy[0]],\n",
    "                       ['Random Forest','Precision',precision[1]],['Random Forest','Recall',recall[1]],['Random Forest','F1 Score',fscore[1]],['Random Forest','Accuracy',accuracy[1]],\n",
    "                       ['SVM','Precision',precision[2]],['SVM','Recall',recall[2]],['SVM','F1 Score',fscore[2]],['SVM','Accuracy',accuracy[2]],\n",
    "                       ['XGBoost','Precision',precision[3]],['XGBoost','Recall',recall[3]],['XGBoost','F1 Score',fscore[3]],['XGBoost','Accuracy',accuracy[3]],\n",
    "                       ['AdaBoost','Precision',precision[4]],['AdaBoost','Recall',recall[4]],['AdaBoost','F1 Score',fscore[4]],['AdaBoost','Accuracy',accuracy[4]],\n",
    "                       ['KNN','Precision',precision[5]],['KNN','Recall',recall[5]],['KNN','F1 Score',fscore[5]],['KNN','Accuracy',accuracy[5]],\n",
    "                      ],columns=['Algorithms','Performance Output','Value'])\n",
    "    df.pivot(\"Algorithms\", \"Performance Output\", \"Value\").plot(kind='bar')\n",
    "    plt.show()\n",
    "\n",
    "\n",
    "font = ('times', 16, 'bold')\n",
    "title = Label(main, text='Mitigating DDOS Attack In IOT Network Environment')\n",
    "title.config(bg='greenyellow', fg='dodger blue')  \n",
    "title.config(font=font)           \n",
    "title.config(height=3, width=120)       \n",
    "title.place(x=0,y=5)\n",
    "\n",
    "font1 = ('times', 12, 'bold')\n",
    "text=Text(main,height=20,width=150)\n",
    "scroll=Scrollbar(text)\n",
    "text.configure(yscrollcommand=scroll.set)\n",
    "text.place(x=50,y=120)\n",
    "text.config(font=font1)\n",
    "\n",
    "\n",
    "font1 = ('times', 13, 'bold')\n",
    "uploadButton = Button(main, text=\"Upload DDOS Dataset\", command=uploadDataset)\n",
    "uploadButton.place(x=50,y=550)\n",
    "uploadButton.config(font=font1)  \n",
    "\n",
    "preprocessButton = Button(main, text=\"Preprocess Dataset\", command=preprocessDataset)\n",
    "preprocessButton.place(x=330,y=550)\n",
    "preprocessButton.config(font=font1) \n",
    "\n",
    "nbButton = Button(main, text=\"Run Naive Bayes Algorithm\", command=runNaiveBayes)\n",
    "nbButton.place(x=630,y=550)\n",
    "nbButton.config(font=font1)\n",
    "\n",
    "rfButton = Button(main, text=\"Run Random Forest Algorithm\", command=runRandomForest)\n",
    "rfButton.place(x=920,y=550)\n",
    "rfButton.config(font=font1)\n",
    "\n",
    "svmButton = Button(main, text=\"Run SVM Algorithm\", command=runSVM)\n",
    "svmButton.place(x=50,y=600)\n",
    "svmButton.config(font=font1)\n",
    "\n",
    "xgButton = Button(main, text=\"Run XGBoost Algorithm\", command=runXGBoost)\n",
    "xgButton.place(x=330,y=600)\n",
    "xgButton.config(font=font1) \n",
    "\n",
    "adaboostButton = Button(main, text=\"Run AdaBoost Algorithm\", command=runAdaBoost)\n",
    "adaboostButton.place(x=630,y=600)\n",
    "adaboostButton.config(font=font1)\n",
    "\n",
    "knnButton = Button(main, text=\"Run KNN Algorithm\", command=runKNN)\n",
    "knnButton.place(x=920,y=600)\n",
    "knnButton.config(font=font1)\n",
    "\n",
    "graphButton = Button(main, text=\"Comparison Graph\", command=graph)\n",
    "graphButton.place(x=50,y=650)\n",
    "graphButton.config(font=font1)\n",
    "\n",
    "predictButton = Button(main, text=\"Predict Attack from Test Data\", command=predict)\n",
    "predictButton.place(x=330,y=650)\n",
    "predictButton.config(font=font1) \n",
    "\n",
    "\n",
    "main.config(bg='LightSkyBlue')\n",
    "main.mainloop()\n"
   ]
  },
  {
   "cell_type": "code",
   "execution_count": 60,
   "id": "17ecba19",
   "metadata": {},
   "outputs": [
    {
     "name": "stdout",
     "output_type": "stream",
     "text": [
      "x\n"
     ]
    }
   ],
   "source": [
    "    "
   ]
  },
  {
   "cell_type": "code",
   "execution_count": 29,
   "id": "f0c7f49b",
   "metadata": {},
   "outputs": [],
   "source": [
    "types = dataset.dtypes.values"
   ]
  },
  {
   "cell_type": "code",
   "execution_count": null,
   "id": "398eb6aa",
   "metadata": {},
   "outputs": [],
   "source": []
  },
  {
   "cell_type": "code",
   "execution_count": null,
   "id": "bdbf655d",
   "metadata": {},
   "outputs": [],
   "source": []
  },
  {
   "cell_type": "code",
   "execution_count": null,
   "id": "96a6a9f5",
   "metadata": {},
   "outputs": [],
   "source": []
  }
 ],
 "metadata": {
  "kernelspec": {
   "display_name": "Python [conda env:myenv]",
   "language": "python",
   "name": "conda-env-myenv-py"
  },
  "language_info": {
   "codemirror_mode": {
    "name": "ipython",
    "version": 3
   },
   "file_extension": ".py",
   "mimetype": "text/x-python",
   "name": "python",
   "nbconvert_exporter": "python",
   "pygments_lexer": "ipython3",
   "version": "3.10.8"
  }
 },
 "nbformat": 4,
 "nbformat_minor": 5
}
